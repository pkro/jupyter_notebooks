{
 "cells": [
  {
   "cell_type": "markdown",
   "metadata": {},
   "source": [
    "Datastructures for holding messages for the CS50W project2\n",
    "\n",
    "- should hold rooms and messages\n",
    "- each channel should only hold 100 messages per channel in server side memory\n",
    "    -> datastructure should auto-expire messages\n",
    "        -> Maybe unload to db function that writes them in the DB (optional)\n",
    "    -> datastructure should hold either linkor binary data to uploaded pics\n",
    "    "
   ]
  },
  {
   "cell_type": "code",
   "execution_count": 85,
   "metadata": {},
   "outputs": [],
   "source": [
    "from collections import UserDict\n",
    "\n",
    "class messages:\n",
    "    def __init__(self):\n",
    "        self.messages = dict()\n",
    "    \n",
    "    def add(self, room, user, message):\n",
    "        message = dict(user=user, message=message)\n",
    "        self.messages.setdefault(room, [])\n",
    "        self.messages[room].append(message)\n",
    "        if self.num_messages(room) > 100:\n",
    "            del(self.messages[room][0])\n",
    "    \n",
    "    def num_messages(self, room):\n",
    "        return len(self.messages[room])\n",
    "    \n",
    "        "
   ]
  },
  {
   "cell_type": "code",
   "execution_count": 86,
   "metadata": {},
   "outputs": [],
   "source": [
    "# tests\n",
    "import unittest\n",
    "import random\n",
    "\n",
    "class TestNotebook(unittest.TestCase):\n",
    "    def getRandomMessage(self):\n",
    "        rooms = ['r1', 'r2', 'r3']\n",
    "        users = ['u1', 'u2', 'u3']\n",
    "        messages = ['blah', 'blubb', 'hahaha 123']\n",
    "        return (random.choice(messages), random.choice(users), random.choice(rooms))\n",
    "    \n",
    "    \n",
    "    def test_class_exists(self):\n",
    "        m = messages()\n",
    "        # message = {'message': random.choice(messages)}\n",
    "        #self.assertEqual(add(2, 2), 5)\n",
    "    def test_add_message(self):\n",
    "        m = messages()\n",
    "        m.add(*self.getRandomMessage())\n",
    "    \n",
    "    def test_expected_size(self):\n",
    "        m = messages()\n",
    "        for e in range(65):\n",
    "            m.add('testroom', 'userx', f'Testmessage {e}')\n",
    "        \n",
    "        self.assertEqual(m.num_messages('testroom'), 65)\n",
    "        \n",
    "    def test_del_old_msg(self):\n",
    "        m = messages()\n",
    "        for e in range(105):\n",
    "            m.add('testroom', 'userx', f'Testmessage {e}')\n",
    "        \n",
    "        self.assertEqual(m.num_messages('testroom'), 100)"
   ]
  },
  {
   "cell_type": "code",
   "execution_count": 87,
   "metadata": {},
   "outputs": [
    {
     "name": "stderr",
     "output_type": "stream",
     "text": [
      "test_add_message (__main__.TestNotebook) ... ok\n",
      "test_class_exists (__main__.TestNotebook) ... ok\n",
      "test_del_old_msg (__main__.TestNotebook) ... ok\n",
      "test_expected_size (__main__.TestNotebook) ... ok\n",
      "\n",
      "----------------------------------------------------------------------\n",
      "Ran 4 tests in 0.007s\n",
      "\n",
      "OK\n"
     ]
    },
    {
     "data": {
      "text/plain": [
       "<unittest.main.TestProgram at 0x1d3689c6ba8>"
      ]
     },
     "execution_count": 87,
     "metadata": {},
     "output_type": "execute_result"
    }
   ],
   "source": [
    "unittest.main(argv=[''], verbosity=2, exit=False)"
   ]
  },
  {
   "cell_type": "code",
   "execution_count": 104,
   "metadata": {},
   "outputs": [
    {
     "data": {
      "text/plain": [
       "Message(timestamp='2019-05-08 11:25:56', user='System', message='Welcome to the lobby')"
      ]
     },
     "execution_count": 104,
     "metadata": {},
     "output_type": "execute_result"
    }
   ],
   "source": [
    "from collections import defaultdict\n",
    "from collections import deque\n",
    "from collections import namedtuple\n",
    "from datetime import datetime\n",
    "\n",
    "def get_timestamp():\n",
    "    return datetime.now().strftime('%Y-%m-%d %H:%M:%S')\n",
    "\n",
    "Message = namedtuple('Message', ['timestamp', 'user', 'message'])\n",
    "messages = defaultdict(deque)\n",
    "# Using deque of size 100, entries \"older than\" 100 will be purged\n",
    "# index 0 is always the latest message\n",
    "messages['lobby'] = deque([], 100)\n",
    "initial_message = Message(get_timestamp(), 'System', 'Welcome to the lobby')\n",
    "messages['lobby'].appendleft(initial_message)\n",
    "\n",
    "messages['lobby'][0]"
   ]
  }
 ],
 "metadata": {
  "kernelspec": {
   "display_name": "Python 3",
   "language": "python",
   "name": "python3"
  },
  "language_info": {
   "codemirror_mode": {
    "name": "ipython",
    "version": 3
   },
   "file_extension": ".py",
   "mimetype": "text/x-python",
   "name": "python",
   "nbconvert_exporter": "python",
   "pygments_lexer": "ipython3",
   "version": "3.6.8"
  }
 },
 "nbformat": 4,
 "nbformat_minor": 2
}
